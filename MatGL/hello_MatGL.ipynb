{
 "cells": [
  {
   "cell_type": "markdown",
   "metadata": {},
   "source": [
    "# MatGL Hello world!\n",
    "------------------------\n",
    "Here comes my MatGL tryout "
   ]
  },
  {
   "cell_type": "code",
   "execution_count": 1,
   "metadata": {},
   "outputs": [],
   "source": [
    "from __future__ import annotations\n",
    "import warnings\n",
    "from pymatgen.core import Structure, Lattice\n",
    "import matgl\n",
    "import torch\n",
    "#torch.set_default_device(\"cuda\")\n",
    "warnings.simplefilter(\"ignore\")"
   ]
  },
  {
   "cell_type": "code",
   "execution_count": 2,
   "metadata": {},
   "outputs": [
    {
     "name": "stdout",
     "output_type": "stream",
     "text": [
      "0.8.2\n"
     ]
    }
   ],
   "source": [
    "print(matgl.__version__)"
   ]
  },
  {
   "cell_type": "code",
   "execution_count": 3,
   "metadata": {},
   "outputs": [
    {
     "name": "stdout",
     "output_type": "stream",
     "text": [
      "['M3GNet-MP-2018.6.1-Eform', 'M3GNet-MP-2021.2.8-DIRECT-PES', 'M3GNet-MP-2021.2.8-PES', 'MEGNet-MP-2018.6.1-Eform', 'MEGNet-MP-2019.4.1-BandGap-mfi']\n"
     ]
    }
   ],
   "source": [
    "print(matgl.get_available_pretrained_models())"
   ]
  },
  {
   "cell_type": "code",
   "execution_count": 4,
   "metadata": {},
   "outputs": [],
   "source": [
    "struct = Structure.from_spacegroup(\"Pm-3m\", Lattice.cubic(4.1437), [\"Cs\", \"Cl\"], [[0, 0, 0], [0.5, 0.5, 0.5]])"
   ]
  },
  {
   "cell_type": "markdown",
   "metadata": {},
   "source": [
    "## calculate MP Band gap"
   ]
  },
  {
   "cell_type": "code",
   "execution_count": 5,
   "metadata": {},
   "outputs": [
    {
     "name": "stdout",
     "output_type": "stream",
     "text": [
      "The predicted PBE band gap for CsCl is 4.825 eV.\n",
      "The predicted GLLB-SC band gap for CsCl is 8.323 eV.\n",
      "The predicted HSE band gap for CsCl is 6.317 eV.\n",
      "The predicted SCAN band gap for CsCl is 5.965 eV.\n"
     ]
    }
   ],
   "source": [
    "#code adapted fom https://matgl.ai/tutorials%2FProperty%20Predictions%20using%20MEGNet%20or%20M3GNet%20Models.html\n",
    "model = matgl.load_model(\"MEGNet-MP-2019.4.1-BandGap-mfi\")\n",
    "\n",
    "# Define a list of methods to use\n",
    "methods = [\"PBE\", \"GLLB-SC\", \"HSE\", \"SCAN\"]\n",
    "# For multi-fidelity models, we need to define graph label (\"0\": PBE, \"1\": GLLB-SC, \"2\": HSE, \"3\": SCAN)\n",
    "\n",
    "for i, method in enumerate(methods):\n",
    "    graph_attrs = torch.tensor([i])\n",
    "    bandgap = model.predict_structure(structure=struct, state_feats=graph_attrs)\n",
    "    print(f\"The predicted {method} band gap for CsCl is {float(bandgap):.3f} eV.\")"
   ]
  },
  {
   "cell_type": "code",
   "execution_count": 6,
   "metadata": {},
   "outputs": [
    {
     "name": "stdout",
     "output_type": "stream",
     "text": [
      "The predicted formation energy for CsCl is -2.272 eV/atom.\n"
     ]
    }
   ],
   "source": [
    "from pymatgen.core import Lattice, Structure\n",
    "import matgl\n",
    "\n",
    "model = matgl.load_model(\"MEGNet-MP-2018.6.1-Eform\")\n",
    "\n",
    "# This is the structure obtained from the Materials Project.\n",
    "struct = Structure.from_spacegroup(\"Pm-3m\", Lattice.cubic(4.1437), [\"Cs\", \"Cl\"], [[0, 0, 0], [0.5, 0.5, 0.5]])\n",
    "eform = model.predict_structure(struct)\n",
    "print(f\"The predicted formation energy for CsCl is {float(eform.numpy()):.3f} eV/atom.\")"
   ]
  },
  {
   "cell_type": "code",
   "execution_count": 7,
   "metadata": {},
   "outputs": [],
   "source": [
    "torch.set_default_device(\"cuda\")"
   ]
  },
  {
   "cell_type": "code",
   "execution_count": 8,
   "metadata": {},
   "outputs": [
    {
     "ename": "DGLError",
     "evalue": "[22:27:41] /opt/dgl/src/array/array.cc:42: Operator Range does not support cuda device.\nStack trace:\n  [bt] (0) /home/ubuntu/.pyenv/versions/3.11.4/envs/MatGL/lib/python3.11/site-packages/dgl/libdgl.so(+0xf87d0) [0x7f9cc3ab47d0]\n  [bt] (1) /home/ubuntu/.pyenv/versions/3.11.4/envs/MatGL/lib/python3.11/site-packages/dgl/libdgl.so(dgl::aten::Range(long, long, unsigned char, DGLContext)+0x107) [0x7f9cc3ab49f7]\n  [bt] (2) /home/ubuntu/.pyenv/versions/3.11.4/envs/MatGL/lib/python3.11/site-packages/dgl/libdgl.so(dgl::UnitGraph::COO::Edges(unsigned long, std::string const&) const+0x9b) [0x7f9cc3fe0e7b]\n  [bt] (3) /home/ubuntu/.pyenv/versions/3.11.4/envs/MatGL/lib/python3.11/site-packages/dgl/libdgl.so(dgl::UnitGraph::Edges(unsigned long, std::string const&) const+0xa1) [0x7f9cc3fd9fb1]\n  [bt] (4) /home/ubuntu/.pyenv/versions/3.11.4/envs/MatGL/lib/python3.11/site-packages/dgl/libdgl.so(dgl::HeteroGraph::Edges(unsigned long, std::string const&) const+0x2a) [0x7f9cc3eddd7a]\n  [bt] (5) /home/ubuntu/.pyenv/versions/3.11.4/envs/MatGL/lib/python3.11/site-packages/dgl/libdgl.so(+0x52d931) [0x7f9cc3ee9931]\n  [bt] (6) /home/ubuntu/.pyenv/versions/3.11.4/envs/MatGL/lib/python3.11/site-packages/dgl/libdgl.so(DGLFuncCall+0x48) [0x7f9cc3e70fa8]\n  [bt] (7) /home/ubuntu/.pyenv/versions/3.11.4/envs/MatGL/lib/python3.11/site-packages/dgl/_ffi/_cy3/core.cpython-311-x86_64-linux-gnu.so(+0x15103) [0x7f9cc29af103]\n  [bt] (8) /home/ubuntu/.pyenv/versions/3.11.4/envs/MatGL/lib/python3.11/site-packages/dgl/_ffi/_cy3/core.cpython-311-x86_64-linux-gnu.so(+0x1591b) [0x7f9cc29af91b]\n\n",
     "output_type": "error",
     "traceback": [
      "\u001b[0;31m---------------------------------------------------------------------------\u001b[0m",
      "\u001b[0;31mDGLError\u001b[0m                                  Traceback (most recent call last)",
      "Cell \u001b[0;32mIn[8], line 3\u001b[0m\n\u001b[1;32m      1\u001b[0m \u001b[39mfor\u001b[39;00m i, method \u001b[39min\u001b[39;00m \u001b[39menumerate\u001b[39m(methods):\n\u001b[1;32m      2\u001b[0m     graph_attrs \u001b[39m=\u001b[39m torch\u001b[39m.\u001b[39mtensor([i])\n\u001b[0;32m----> 3\u001b[0m     bandgap \u001b[39m=\u001b[39m model\u001b[39m.\u001b[39;49mpredict_structure(structure\u001b[39m=\u001b[39;49mstruct, state_feats\u001b[39m=\u001b[39;49mgraph_attrs)\n\u001b[1;32m      4\u001b[0m     \u001b[39mprint\u001b[39m(\u001b[39mf\u001b[39m\u001b[39m\"\u001b[39m\u001b[39mThe predicted \u001b[39m\u001b[39m{\u001b[39;00mmethod\u001b[39m}\u001b[39;00m\u001b[39m band gap for CsCl is \u001b[39m\u001b[39m{\u001b[39;00m\u001b[39mfloat\u001b[39m(bandgap)\u001b[39m:\u001b[39;00m\u001b[39m.3f\u001b[39m\u001b[39m}\u001b[39;00m\u001b[39m eV.\u001b[39m\u001b[39m\"\u001b[39m)\n",
      "File \u001b[0;32m~/.pyenv/versions/3.11.4/envs/MatGL/lib/python3.11/site-packages/matgl/models/_wrappers.py:60\u001b[0m, in \u001b[0;36mTransformedTargetModel.predict_structure\u001b[0;34m(self, *args, **kwargs)\u001b[0m\n\u001b[1;32m     50\u001b[0m \u001b[39mdef\u001b[39;00m \u001b[39mpredict_structure\u001b[39m(\u001b[39mself\u001b[39m, \u001b[39m*\u001b[39margs, \u001b[39m*\u001b[39m\u001b[39m*\u001b[39mkwargs):\n\u001b[1;32m     51\u001b[0m \u001b[39m    \u001b[39m\u001b[39m\"\"\"Pass through to parent model.predict_structure with inverse transform.\u001b[39;00m\n\u001b[1;32m     52\u001b[0m \n\u001b[1;32m     53\u001b[0m \u001b[39m    Args:\u001b[39;00m\n\u001b[0;32m   (...)\u001b[0m\n\u001b[1;32m     58\u001b[0m \u001b[39m        Transformed answer.\u001b[39;00m\n\u001b[1;32m     59\u001b[0m \u001b[39m    \"\"\"\u001b[39;00m\n\u001b[0;32m---> 60\u001b[0m     \u001b[39mreturn\u001b[39;00m \u001b[39mself\u001b[39m\u001b[39m.\u001b[39mtransformer\u001b[39m.\u001b[39minverse_transform(\u001b[39mself\u001b[39;49m\u001b[39m.\u001b[39;49mmodel\u001b[39m.\u001b[39;49mpredict_structure(\u001b[39m*\u001b[39;49margs, \u001b[39m*\u001b[39;49m\u001b[39m*\u001b[39;49mkwargs))\n",
      "File \u001b[0;32m~/.pyenv/versions/3.11.4/envs/MatGL/lib/python3.11/site-packages/matgl/models/_megnet.py:220\u001b[0m, in \u001b[0;36mMEGNet.predict_structure\u001b[0;34m(self, structure, state_feats, graph_converter)\u001b[0m\n\u001b[1;32m    218\u001b[0m \u001b[39mif\u001b[39;00m state_feats \u001b[39mis\u001b[39;00m \u001b[39mNone\u001b[39;00m:\n\u001b[1;32m    219\u001b[0m     state_feats \u001b[39m=\u001b[39m torch\u001b[39m.\u001b[39mtensor(state_feats_default)\n\u001b[0;32m--> 220\u001b[0m bond_vec, bond_dist \u001b[39m=\u001b[39m compute_pair_vector_and_distance(g)\n\u001b[1;32m    221\u001b[0m g\u001b[39m.\u001b[39medata[\u001b[39m\"\u001b[39m\u001b[39medge_attr\u001b[39m\u001b[39m\"\u001b[39m] \u001b[39m=\u001b[39m \u001b[39mself\u001b[39m\u001b[39m.\u001b[39mbond_expansion(bond_dist)\n\u001b[1;32m    222\u001b[0m \u001b[39mreturn\u001b[39;00m \u001b[39mself\u001b[39m(g, g\u001b[39m.\u001b[39medata[\u001b[39m\"\u001b[39m\u001b[39medge_attr\u001b[39m\u001b[39m\"\u001b[39m], g\u001b[39m.\u001b[39mndata[\u001b[39m\"\u001b[39m\u001b[39mnode_type\u001b[39m\u001b[39m\"\u001b[39m], state_feats)\u001b[39m.\u001b[39mdetach()\n",
      "File \u001b[0;32m~/.pyenv/versions/3.11.4/envs/MatGL/lib/python3.11/site-packages/matgl/graph/compute.py:83\u001b[0m, in \u001b[0;36mcompute_pair_vector_and_distance\u001b[0;34m(g)\u001b[0m\n\u001b[1;32m     73\u001b[0m \u001b[39mdef\u001b[39;00m \u001b[39mcompute_pair_vector_and_distance\u001b[39m(g: dgl\u001b[39m.\u001b[39mDGLGraph):\n\u001b[1;32m     74\u001b[0m \u001b[39m    \u001b[39m\u001b[39m\"\"\"Calculate bond vectors and distances using dgl graphs.\u001b[39;00m\n\u001b[1;32m     75\u001b[0m \n\u001b[1;32m     76\u001b[0m \u001b[39m    Args:\u001b[39;00m\n\u001b[0;32m   (...)\u001b[0m\n\u001b[1;32m     81\u001b[0m \u001b[39m    bond_dist (torch.tensor): vector from src node to dst node\u001b[39;00m\n\u001b[1;32m     82\u001b[0m \u001b[39m    \"\"\"\u001b[39;00m\n\u001b[0;32m---> 83\u001b[0m     dst_pos \u001b[39m=\u001b[39m g\u001b[39m.\u001b[39mndata[\u001b[39m\"\u001b[39m\u001b[39mpos\u001b[39m\u001b[39m\"\u001b[39m][g\u001b[39m.\u001b[39;49medges()[\u001b[39m1\u001b[39m]] \u001b[39m+\u001b[39m g\u001b[39m.\u001b[39medata[\u001b[39m\"\u001b[39m\u001b[39mpbc_offshift\u001b[39m\u001b[39m\"\u001b[39m]\n\u001b[1;32m     84\u001b[0m     src_pos \u001b[39m=\u001b[39m g\u001b[39m.\u001b[39mndata[\u001b[39m\"\u001b[39m\u001b[39mpos\u001b[39m\u001b[39m\"\u001b[39m][g\u001b[39m.\u001b[39medges()[\u001b[39m0\u001b[39m]]\n\u001b[1;32m     85\u001b[0m     bond_vec \u001b[39m=\u001b[39m (dst_pos \u001b[39m-\u001b[39m src_pos)\u001b[39m.\u001b[39mfloat()\n",
      "File \u001b[0;32m~/.pyenv/versions/3.11.4/envs/MatGL/lib/python3.11/site-packages/dgl/view.py:179\u001b[0m, in \u001b[0;36mHeteroEdgeView.__call__\u001b[0;34m(self, *args, **kwargs)\u001b[0m\n\u001b[1;32m    177\u001b[0m \u001b[39mdef\u001b[39;00m \u001b[39m__call__\u001b[39m(\u001b[39mself\u001b[39m, \u001b[39m*\u001b[39margs, \u001b[39m*\u001b[39m\u001b[39m*\u001b[39mkwargs):\n\u001b[1;32m    178\u001b[0m \u001b[39m    \u001b[39m\u001b[39m\"\"\"Return all the edges.\"\"\"\u001b[39;00m\n\u001b[0;32m--> 179\u001b[0m     \u001b[39mreturn\u001b[39;00m \u001b[39mself\u001b[39;49m\u001b[39m.\u001b[39;49m_graph\u001b[39m.\u001b[39;49mall_edges(\u001b[39m*\u001b[39;49margs, \u001b[39m*\u001b[39;49m\u001b[39m*\u001b[39;49mkwargs)\n",
      "File \u001b[0;32m~/.pyenv/versions/3.11.4/envs/MatGL/lib/python3.11/site-packages/dgl/heterograph.py:3589\u001b[0m, in \u001b[0;36mDGLGraph.all_edges\u001b[0;34m(self, form, order, etype)\u001b[0m\n\u001b[1;32m   3519\u001b[0m \u001b[39mdef\u001b[39;00m \u001b[39mall_edges\u001b[39m(\u001b[39mself\u001b[39m, form\u001b[39m=\u001b[39m\u001b[39m\"\u001b[39m\u001b[39muv\u001b[39m\u001b[39m\"\u001b[39m, order\u001b[39m=\u001b[39m\u001b[39m\"\u001b[39m\u001b[39meid\u001b[39m\u001b[39m\"\u001b[39m, etype\u001b[39m=\u001b[39m\u001b[39mNone\u001b[39;00m):\n\u001b[1;32m   3520\u001b[0m \u001b[39m    \u001b[39m\u001b[39m\"\"\"Return all edges with the specified edge type.\u001b[39;00m\n\u001b[1;32m   3521\u001b[0m \n\u001b[1;32m   3522\u001b[0m \u001b[39m    Parameters\u001b[39;00m\n\u001b[0;32m   (...)\u001b[0m\n\u001b[1;32m   3587\u001b[0m \u001b[39m    out_edges\u001b[39;00m\n\u001b[1;32m   3588\u001b[0m \u001b[39m    \"\"\"\u001b[39;00m\n\u001b[0;32m-> 3589\u001b[0m     src, dst, eid \u001b[39m=\u001b[39m \u001b[39mself\u001b[39;49m\u001b[39m.\u001b[39;49m_graph\u001b[39m.\u001b[39;49medges(\u001b[39mself\u001b[39;49m\u001b[39m.\u001b[39;49mget_etype_id(etype), order)\n\u001b[1;32m   3590\u001b[0m     \u001b[39mif\u001b[39;00m form \u001b[39m==\u001b[39m \u001b[39m\"\u001b[39m\u001b[39mall\u001b[39m\u001b[39m\"\u001b[39m:\n\u001b[1;32m   3591\u001b[0m         \u001b[39mreturn\u001b[39;00m src, dst, eid\n",
      "File \u001b[0;32m~/.pyenv/versions/3.11.4/envs/MatGL/lib/python3.11/site-packages/dgl/heterograph_index.py:696\u001b[0m, in \u001b[0;36mHeteroGraphIndex.edges\u001b[0;34m(self, etype, order)\u001b[0m\n\u001b[1;32m    691\u001b[0m \u001b[39melif\u001b[39;00m order \u001b[39mnot\u001b[39;00m \u001b[39min\u001b[39;00m [\u001b[39m\"\u001b[39m\u001b[39msrcdst\u001b[39m\u001b[39m\"\u001b[39m, \u001b[39m\"\u001b[39m\u001b[39meid\u001b[39m\u001b[39m\"\u001b[39m]:\n\u001b[1;32m    692\u001b[0m     \u001b[39mraise\u001b[39;00m DGLError(\n\u001b[1;32m    693\u001b[0m         \u001b[39m\"\u001b[39m\u001b[39mExpect order to be one of None, \u001b[39m\u001b[39m'\u001b[39m\u001b[39msrcdst\u001b[39m\u001b[39m'\u001b[39m\u001b[39m, \u001b[39m\u001b[39m'\u001b[39m\u001b[39meid\u001b[39m\u001b[39m'\u001b[39m\u001b[39m, \u001b[39m\u001b[39m\"\u001b[39m\n\u001b[1;32m    694\u001b[0m         \u001b[39m\"\u001b[39m\u001b[39mgot \u001b[39m\u001b[39m{}\u001b[39;00m\u001b[39m\"\u001b[39m\u001b[39m.\u001b[39mformat(order)\n\u001b[1;32m    695\u001b[0m     )\n\u001b[0;32m--> 696\u001b[0m edge_array \u001b[39m=\u001b[39m _CAPI_DGLHeteroEdges(\u001b[39mself\u001b[39;49m, \u001b[39mint\u001b[39;49m(etype), order)\n\u001b[1;32m    697\u001b[0m src \u001b[39m=\u001b[39m F\u001b[39m.\u001b[39mfrom_dgl_nd(edge_array(\u001b[39m0\u001b[39m))\n\u001b[1;32m    698\u001b[0m dst \u001b[39m=\u001b[39m F\u001b[39m.\u001b[39mfrom_dgl_nd(edge_array(\u001b[39m1\u001b[39m))\n",
      "File \u001b[0;32mdgl/_ffi/_cython/./function.pxi:295\u001b[0m, in \u001b[0;36mdgl._ffi._cy3.core.FunctionBase.__call__\u001b[0;34m()\u001b[0m\n",
      "File \u001b[0;32mdgl/_ffi/_cython/./function.pxi:227\u001b[0m, in \u001b[0;36mdgl._ffi._cy3.core.FuncCall\u001b[0;34m()\u001b[0m\n",
      "File \u001b[0;32mdgl/_ffi/_cython/./function.pxi:217\u001b[0m, in \u001b[0;36mdgl._ffi._cy3.core.FuncCall3\u001b[0;34m()\u001b[0m\n",
      "\u001b[0;31mDGLError\u001b[0m: [22:27:41] /opt/dgl/src/array/array.cc:42: Operator Range does not support cuda device.\nStack trace:\n  [bt] (0) /home/ubuntu/.pyenv/versions/3.11.4/envs/MatGL/lib/python3.11/site-packages/dgl/libdgl.so(+0xf87d0) [0x7f9cc3ab47d0]\n  [bt] (1) /home/ubuntu/.pyenv/versions/3.11.4/envs/MatGL/lib/python3.11/site-packages/dgl/libdgl.so(dgl::aten::Range(long, long, unsigned char, DGLContext)+0x107) [0x7f9cc3ab49f7]\n  [bt] (2) /home/ubuntu/.pyenv/versions/3.11.4/envs/MatGL/lib/python3.11/site-packages/dgl/libdgl.so(dgl::UnitGraph::COO::Edges(unsigned long, std::string const&) const+0x9b) [0x7f9cc3fe0e7b]\n  [bt] (3) /home/ubuntu/.pyenv/versions/3.11.4/envs/MatGL/lib/python3.11/site-packages/dgl/libdgl.so(dgl::UnitGraph::Edges(unsigned long, std::string const&) const+0xa1) [0x7f9cc3fd9fb1]\n  [bt] (4) /home/ubuntu/.pyenv/versions/3.11.4/envs/MatGL/lib/python3.11/site-packages/dgl/libdgl.so(dgl::HeteroGraph::Edges(unsigned long, std::string const&) const+0x2a) [0x7f9cc3eddd7a]\n  [bt] (5) /home/ubuntu/.pyenv/versions/3.11.4/envs/MatGL/lib/python3.11/site-packages/dgl/libdgl.so(+0x52d931) [0x7f9cc3ee9931]\n  [bt] (6) /home/ubuntu/.pyenv/versions/3.11.4/envs/MatGL/lib/python3.11/site-packages/dgl/libdgl.so(DGLFuncCall+0x48) [0x7f9cc3e70fa8]\n  [bt] (7) /home/ubuntu/.pyenv/versions/3.11.4/envs/MatGL/lib/python3.11/site-packages/dgl/_ffi/_cy3/core.cpython-311-x86_64-linux-gnu.so(+0x15103) [0x7f9cc29af103]\n  [bt] (8) /home/ubuntu/.pyenv/versions/3.11.4/envs/MatGL/lib/python3.11/site-packages/dgl/_ffi/_cy3/core.cpython-311-x86_64-linux-gnu.so(+0x1591b) [0x7f9cc29af91b]\n\n"
     ]
    }
   ],
   "source": [
    "for i, method in enumerate(methods):\n",
    "    graph_attrs = torch.tensor([i])\n",
    "    bandgap = model.predict_structure(structure=struct, state_feats=graph_attrs)\n",
    "    print(f\"The predicted {method} band gap for CsCl is {float(bandgap):.3f} eV.\")"
   ]
  },
  {
   "cell_type": "code",
   "execution_count": 4,
   "metadata": {},
   "outputs": [],
   "source": [
    "from __future__ import annotations\n",
    "\n",
    "import warnings\n",
    "\n",
    "import torch\n",
    "import matgl\n",
    "\n",
    "torch.set_default_device(\"cuda\")\n",
    "\n",
    "from pymatgen.core import Lattice, Structure\n",
    "warnings.simplefilter(\"ignore\")\n"
   ]
  },
  {
   "cell_type": "code",
   "execution_count": 6,
   "metadata": {},
   "outputs": [],
   "source": [
    "struct = Structure.from_spacegroup(\"Pm-3m\", Lattice.cubic(4.1437), [\"Cs\", \"Cl\"], [[0, 0, 0], [0.5, 0.5, 0.5]])"
   ]
  },
  {
   "cell_type": "code",
   "execution_count": 7,
   "metadata": {},
   "outputs": [],
   "source": [
    "# Load the pre-trained MEGNet formation energy model.\n",
    "model = matgl.load_model(\"MEGNet-MP-2018.6.1-Eform\")"
   ]
  },
  {
   "cell_type": "code",
   "execution_count": 8,
   "metadata": {},
   "outputs": [
    {
     "ename": "DGLError",
     "evalue": "[22:39:01] /opt/dgl/src/array/array.cc:42: Operator Range does not support cuda device.\nStack trace:\n  [bt] (0) /home/ubuntu/.pyenv/versions/3.11.4/envs/MatGL/lib/python3.11/site-packages/dgl/libdgl.so(+0xf87d0) [0x7f68a18577d0]\n  [bt] (1) /home/ubuntu/.pyenv/versions/3.11.4/envs/MatGL/lib/python3.11/site-packages/dgl/libdgl.so(dgl::aten::Range(long, long, unsigned char, DGLContext)+0x107) [0x7f68a18579f7]\n  [bt] (2) /home/ubuntu/.pyenv/versions/3.11.4/envs/MatGL/lib/python3.11/site-packages/dgl/libdgl.so(dgl::UnitGraph::COO::Edges(unsigned long, std::string const&) const+0x9b) [0x7f68a1d83e7b]\n  [bt] (3) /home/ubuntu/.pyenv/versions/3.11.4/envs/MatGL/lib/python3.11/site-packages/dgl/libdgl.so(dgl::UnitGraph::Edges(unsigned long, std::string const&) const+0xa1) [0x7f68a1d7cfb1]\n  [bt] (4) /home/ubuntu/.pyenv/versions/3.11.4/envs/MatGL/lib/python3.11/site-packages/dgl/libdgl.so(dgl::HeteroGraph::Edges(unsigned long, std::string const&) const+0x2a) [0x7f68a1c80d7a]\n  [bt] (5) /home/ubuntu/.pyenv/versions/3.11.4/envs/MatGL/lib/python3.11/site-packages/dgl/libdgl.so(+0x52d931) [0x7f68a1c8c931]\n  [bt] (6) /home/ubuntu/.pyenv/versions/3.11.4/envs/MatGL/lib/python3.11/site-packages/dgl/libdgl.so(DGLFuncCall+0x48) [0x7f68a1c13fa8]\n  [bt] (7) /home/ubuntu/.pyenv/versions/3.11.4/envs/MatGL/lib/python3.11/site-packages/dgl/_ffi/_cy3/core.cpython-311-x86_64-linux-gnu.so(+0x15103) [0x7f68a0652103]\n  [bt] (8) /home/ubuntu/.pyenv/versions/3.11.4/envs/MatGL/lib/python3.11/site-packages/dgl/_ffi/_cy3/core.cpython-311-x86_64-linux-gnu.so(+0x1591b) [0x7f68a065291b]\n\n",
     "output_type": "error",
     "traceback": [
      "\u001b[0;31m---------------------------------------------------------------------------\u001b[0m",
      "\u001b[0;31mDGLError\u001b[0m                                  Traceback (most recent call last)",
      "Cell \u001b[0;32mIn[8], line 1\u001b[0m\n\u001b[0;32m----> 1\u001b[0m eform \u001b[39m=\u001b[39m model\u001b[39m.\u001b[39;49mpredict_structure(struct)\n\u001b[1;32m      2\u001b[0m \u001b[39mprint\u001b[39m(\u001b[39mf\u001b[39m\u001b[39m\"\u001b[39m\u001b[39mThe predicted formation energy for CsCl is \u001b[39m\u001b[39m{\u001b[39;00m\u001b[39mfloat\u001b[39m(eform)\u001b[39m:\u001b[39;00m\u001b[39m.3f\u001b[39m\u001b[39m}\u001b[39;00m\u001b[39m eV/atom.\u001b[39m\u001b[39m\"\u001b[39m)\n",
      "File \u001b[0;32m~/.pyenv/versions/3.11.4/envs/MatGL/lib/python3.11/site-packages/matgl/models/_wrappers.py:60\u001b[0m, in \u001b[0;36mTransformedTargetModel.predict_structure\u001b[0;34m(self, *args, **kwargs)\u001b[0m\n\u001b[1;32m     50\u001b[0m \u001b[39mdef\u001b[39;00m \u001b[39mpredict_structure\u001b[39m(\u001b[39mself\u001b[39m, \u001b[39m*\u001b[39margs, \u001b[39m*\u001b[39m\u001b[39m*\u001b[39mkwargs):\n\u001b[1;32m     51\u001b[0m \u001b[39m    \u001b[39m\u001b[39m\"\"\"Pass through to parent model.predict_structure with inverse transform.\u001b[39;00m\n\u001b[1;32m     52\u001b[0m \n\u001b[1;32m     53\u001b[0m \u001b[39m    Args:\u001b[39;00m\n\u001b[0;32m   (...)\u001b[0m\n\u001b[1;32m     58\u001b[0m \u001b[39m        Transformed answer.\u001b[39;00m\n\u001b[1;32m     59\u001b[0m \u001b[39m    \"\"\"\u001b[39;00m\n\u001b[0;32m---> 60\u001b[0m     \u001b[39mreturn\u001b[39;00m \u001b[39mself\u001b[39m\u001b[39m.\u001b[39mtransformer\u001b[39m.\u001b[39minverse_transform(\u001b[39mself\u001b[39;49m\u001b[39m.\u001b[39;49mmodel\u001b[39m.\u001b[39;49mpredict_structure(\u001b[39m*\u001b[39;49margs, \u001b[39m*\u001b[39;49m\u001b[39m*\u001b[39;49mkwargs))\n",
      "File \u001b[0;32m~/.pyenv/versions/3.11.4/envs/MatGL/lib/python3.11/site-packages/matgl/models/_megnet.py:220\u001b[0m, in \u001b[0;36mMEGNet.predict_structure\u001b[0;34m(self, structure, state_feats, graph_converter)\u001b[0m\n\u001b[1;32m    218\u001b[0m \u001b[39mif\u001b[39;00m state_feats \u001b[39mis\u001b[39;00m \u001b[39mNone\u001b[39;00m:\n\u001b[1;32m    219\u001b[0m     state_feats \u001b[39m=\u001b[39m torch\u001b[39m.\u001b[39mtensor(state_feats_default)\n\u001b[0;32m--> 220\u001b[0m bond_vec, bond_dist \u001b[39m=\u001b[39m compute_pair_vector_and_distance(g)\n\u001b[1;32m    221\u001b[0m g\u001b[39m.\u001b[39medata[\u001b[39m\"\u001b[39m\u001b[39medge_attr\u001b[39m\u001b[39m\"\u001b[39m] \u001b[39m=\u001b[39m \u001b[39mself\u001b[39m\u001b[39m.\u001b[39mbond_expansion(bond_dist)\n\u001b[1;32m    222\u001b[0m \u001b[39mreturn\u001b[39;00m \u001b[39mself\u001b[39m(g, g\u001b[39m.\u001b[39medata[\u001b[39m\"\u001b[39m\u001b[39medge_attr\u001b[39m\u001b[39m\"\u001b[39m], g\u001b[39m.\u001b[39mndata[\u001b[39m\"\u001b[39m\u001b[39mnode_type\u001b[39m\u001b[39m\"\u001b[39m], state_feats)\u001b[39m.\u001b[39mdetach()\n",
      "File \u001b[0;32m~/.pyenv/versions/3.11.4/envs/MatGL/lib/python3.11/site-packages/matgl/graph/compute.py:83\u001b[0m, in \u001b[0;36mcompute_pair_vector_and_distance\u001b[0;34m(g)\u001b[0m\n\u001b[1;32m     73\u001b[0m \u001b[39mdef\u001b[39;00m \u001b[39mcompute_pair_vector_and_distance\u001b[39m(g: dgl\u001b[39m.\u001b[39mDGLGraph):\n\u001b[1;32m     74\u001b[0m \u001b[39m    \u001b[39m\u001b[39m\"\"\"Calculate bond vectors and distances using dgl graphs.\u001b[39;00m\n\u001b[1;32m     75\u001b[0m \n\u001b[1;32m     76\u001b[0m \u001b[39m    Args:\u001b[39;00m\n\u001b[0;32m   (...)\u001b[0m\n\u001b[1;32m     81\u001b[0m \u001b[39m    bond_dist (torch.tensor): vector from src node to dst node\u001b[39;00m\n\u001b[1;32m     82\u001b[0m \u001b[39m    \"\"\"\u001b[39;00m\n\u001b[0;32m---> 83\u001b[0m     dst_pos \u001b[39m=\u001b[39m g\u001b[39m.\u001b[39mndata[\u001b[39m\"\u001b[39m\u001b[39mpos\u001b[39m\u001b[39m\"\u001b[39m][g\u001b[39m.\u001b[39;49medges()[\u001b[39m1\u001b[39m]] \u001b[39m+\u001b[39m g\u001b[39m.\u001b[39medata[\u001b[39m\"\u001b[39m\u001b[39mpbc_offshift\u001b[39m\u001b[39m\"\u001b[39m]\n\u001b[1;32m     84\u001b[0m     src_pos \u001b[39m=\u001b[39m g\u001b[39m.\u001b[39mndata[\u001b[39m\"\u001b[39m\u001b[39mpos\u001b[39m\u001b[39m\"\u001b[39m][g\u001b[39m.\u001b[39medges()[\u001b[39m0\u001b[39m]]\n\u001b[1;32m     85\u001b[0m     bond_vec \u001b[39m=\u001b[39m (dst_pos \u001b[39m-\u001b[39m src_pos)\u001b[39m.\u001b[39mfloat()\n",
      "File \u001b[0;32m~/.pyenv/versions/3.11.4/envs/MatGL/lib/python3.11/site-packages/dgl/view.py:179\u001b[0m, in \u001b[0;36mHeteroEdgeView.__call__\u001b[0;34m(self, *args, **kwargs)\u001b[0m\n\u001b[1;32m    177\u001b[0m \u001b[39mdef\u001b[39;00m \u001b[39m__call__\u001b[39m(\u001b[39mself\u001b[39m, \u001b[39m*\u001b[39margs, \u001b[39m*\u001b[39m\u001b[39m*\u001b[39mkwargs):\n\u001b[1;32m    178\u001b[0m \u001b[39m    \u001b[39m\u001b[39m\"\"\"Return all the edges.\"\"\"\u001b[39;00m\n\u001b[0;32m--> 179\u001b[0m     \u001b[39mreturn\u001b[39;00m \u001b[39mself\u001b[39;49m\u001b[39m.\u001b[39;49m_graph\u001b[39m.\u001b[39;49mall_edges(\u001b[39m*\u001b[39;49margs, \u001b[39m*\u001b[39;49m\u001b[39m*\u001b[39;49mkwargs)\n",
      "File \u001b[0;32m~/.pyenv/versions/3.11.4/envs/MatGL/lib/python3.11/site-packages/dgl/heterograph.py:3589\u001b[0m, in \u001b[0;36mDGLGraph.all_edges\u001b[0;34m(self, form, order, etype)\u001b[0m\n\u001b[1;32m   3519\u001b[0m \u001b[39mdef\u001b[39;00m \u001b[39mall_edges\u001b[39m(\u001b[39mself\u001b[39m, form\u001b[39m=\u001b[39m\u001b[39m\"\u001b[39m\u001b[39muv\u001b[39m\u001b[39m\"\u001b[39m, order\u001b[39m=\u001b[39m\u001b[39m\"\u001b[39m\u001b[39meid\u001b[39m\u001b[39m\"\u001b[39m, etype\u001b[39m=\u001b[39m\u001b[39mNone\u001b[39;00m):\n\u001b[1;32m   3520\u001b[0m \u001b[39m    \u001b[39m\u001b[39m\"\"\"Return all edges with the specified edge type.\u001b[39;00m\n\u001b[1;32m   3521\u001b[0m \n\u001b[1;32m   3522\u001b[0m \u001b[39m    Parameters\u001b[39;00m\n\u001b[0;32m   (...)\u001b[0m\n\u001b[1;32m   3587\u001b[0m \u001b[39m    out_edges\u001b[39;00m\n\u001b[1;32m   3588\u001b[0m \u001b[39m    \"\"\"\u001b[39;00m\n\u001b[0;32m-> 3589\u001b[0m     src, dst, eid \u001b[39m=\u001b[39m \u001b[39mself\u001b[39;49m\u001b[39m.\u001b[39;49m_graph\u001b[39m.\u001b[39;49medges(\u001b[39mself\u001b[39;49m\u001b[39m.\u001b[39;49mget_etype_id(etype), order)\n\u001b[1;32m   3590\u001b[0m     \u001b[39mif\u001b[39;00m form \u001b[39m==\u001b[39m \u001b[39m\"\u001b[39m\u001b[39mall\u001b[39m\u001b[39m\"\u001b[39m:\n\u001b[1;32m   3591\u001b[0m         \u001b[39mreturn\u001b[39;00m src, dst, eid\n",
      "File \u001b[0;32m~/.pyenv/versions/3.11.4/envs/MatGL/lib/python3.11/site-packages/dgl/heterograph_index.py:696\u001b[0m, in \u001b[0;36mHeteroGraphIndex.edges\u001b[0;34m(self, etype, order)\u001b[0m\n\u001b[1;32m    691\u001b[0m \u001b[39melif\u001b[39;00m order \u001b[39mnot\u001b[39;00m \u001b[39min\u001b[39;00m [\u001b[39m\"\u001b[39m\u001b[39msrcdst\u001b[39m\u001b[39m\"\u001b[39m, \u001b[39m\"\u001b[39m\u001b[39meid\u001b[39m\u001b[39m\"\u001b[39m]:\n\u001b[1;32m    692\u001b[0m     \u001b[39mraise\u001b[39;00m DGLError(\n\u001b[1;32m    693\u001b[0m         \u001b[39m\"\u001b[39m\u001b[39mExpect order to be one of None, \u001b[39m\u001b[39m'\u001b[39m\u001b[39msrcdst\u001b[39m\u001b[39m'\u001b[39m\u001b[39m, \u001b[39m\u001b[39m'\u001b[39m\u001b[39meid\u001b[39m\u001b[39m'\u001b[39m\u001b[39m, \u001b[39m\u001b[39m\"\u001b[39m\n\u001b[1;32m    694\u001b[0m         \u001b[39m\"\u001b[39m\u001b[39mgot \u001b[39m\u001b[39m{}\u001b[39;00m\u001b[39m\"\u001b[39m\u001b[39m.\u001b[39mformat(order)\n\u001b[1;32m    695\u001b[0m     )\n\u001b[0;32m--> 696\u001b[0m edge_array \u001b[39m=\u001b[39m _CAPI_DGLHeteroEdges(\u001b[39mself\u001b[39;49m, \u001b[39mint\u001b[39;49m(etype), order)\n\u001b[1;32m    697\u001b[0m src \u001b[39m=\u001b[39m F\u001b[39m.\u001b[39mfrom_dgl_nd(edge_array(\u001b[39m0\u001b[39m))\n\u001b[1;32m    698\u001b[0m dst \u001b[39m=\u001b[39m F\u001b[39m.\u001b[39mfrom_dgl_nd(edge_array(\u001b[39m1\u001b[39m))\n",
      "File \u001b[0;32mdgl/_ffi/_cython/./function.pxi:295\u001b[0m, in \u001b[0;36mdgl._ffi._cy3.core.FunctionBase.__call__\u001b[0;34m()\u001b[0m\n",
      "File \u001b[0;32mdgl/_ffi/_cython/./function.pxi:227\u001b[0m, in \u001b[0;36mdgl._ffi._cy3.core.FuncCall\u001b[0;34m()\u001b[0m\n",
      "File \u001b[0;32mdgl/_ffi/_cython/./function.pxi:217\u001b[0m, in \u001b[0;36mdgl._ffi._cy3.core.FuncCall3\u001b[0;34m()\u001b[0m\n",
      "\u001b[0;31mDGLError\u001b[0m: [22:39:01] /opt/dgl/src/array/array.cc:42: Operator Range does not support cuda device.\nStack trace:\n  [bt] (0) /home/ubuntu/.pyenv/versions/3.11.4/envs/MatGL/lib/python3.11/site-packages/dgl/libdgl.so(+0xf87d0) [0x7f68a18577d0]\n  [bt] (1) /home/ubuntu/.pyenv/versions/3.11.4/envs/MatGL/lib/python3.11/site-packages/dgl/libdgl.so(dgl::aten::Range(long, long, unsigned char, DGLContext)+0x107) [0x7f68a18579f7]\n  [bt] (2) /home/ubuntu/.pyenv/versions/3.11.4/envs/MatGL/lib/python3.11/site-packages/dgl/libdgl.so(dgl::UnitGraph::COO::Edges(unsigned long, std::string const&) const+0x9b) [0x7f68a1d83e7b]\n  [bt] (3) /home/ubuntu/.pyenv/versions/3.11.4/envs/MatGL/lib/python3.11/site-packages/dgl/libdgl.so(dgl::UnitGraph::Edges(unsigned long, std::string const&) const+0xa1) [0x7f68a1d7cfb1]\n  [bt] (4) /home/ubuntu/.pyenv/versions/3.11.4/envs/MatGL/lib/python3.11/site-packages/dgl/libdgl.so(dgl::HeteroGraph::Edges(unsigned long, std::string const&) const+0x2a) [0x7f68a1c80d7a]\n  [bt] (5) /home/ubuntu/.pyenv/versions/3.11.4/envs/MatGL/lib/python3.11/site-packages/dgl/libdgl.so(+0x52d931) [0x7f68a1c8c931]\n  [bt] (6) /home/ubuntu/.pyenv/versions/3.11.4/envs/MatGL/lib/python3.11/site-packages/dgl/libdgl.so(DGLFuncCall+0x48) [0x7f68a1c13fa8]\n  [bt] (7) /home/ubuntu/.pyenv/versions/3.11.4/envs/MatGL/lib/python3.11/site-packages/dgl/_ffi/_cy3/core.cpython-311-x86_64-linux-gnu.so(+0x15103) [0x7f68a0652103]\n  [bt] (8) /home/ubuntu/.pyenv/versions/3.11.4/envs/MatGL/lib/python3.11/site-packages/dgl/_ffi/_cy3/core.cpython-311-x86_64-linux-gnu.so(+0x1591b) [0x7f68a065291b]\n\n"
     ]
    }
   ],
   "source": [
    "eform = model.predict_structure(struct)\n",
    "print(f\"The predicted formation energy for CsCl is {float(eform):.3f} eV/atom.\")"
   ]
  },
  {
   "cell_type": "code",
   "execution_count": 5,
   "metadata": {},
   "outputs": [
    {
     "name": "stdout",
     "output_type": "stream",
     "text": [
      "The available device is cuda\n"
     ]
    }
   ],
   "source": [
    "if torch.cuda.is_available():\n",
    "    device = 'cuda'\n",
    "else:\n",
    "    device = 'cpu'\n",
    "\n",
    "print(f'The available device is {device}')"
   ]
  },
  {
   "cell_type": "code",
   "execution_count": null,
   "metadata": {},
   "outputs": [],
   "source": []
  }
 ],
 "metadata": {
  "kernelspec": {
   "display_name": ".venv",
   "language": "python",
   "name": "python3"
  },
  "language_info": {
   "codemirror_mode": {
    "name": "ipython",
    "version": 3
   },
   "file_extension": ".py",
   "mimetype": "text/x-python",
   "name": "python",
   "nbconvert_exporter": "python",
   "pygments_lexer": "ipython3",
   "version": "3.11.4"
  },
  "orig_nbformat": 4
 },
 "nbformat": 4,
 "nbformat_minor": 2
}
