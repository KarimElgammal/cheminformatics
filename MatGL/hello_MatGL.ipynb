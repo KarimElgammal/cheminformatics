{
 "cells": [
  {
   "cell_type": "code",
   "execution_count": 1,
   "metadata": {},
   "outputs": [],
   "source": [
    "from __future__ import annotations\n",
    "import warnings\n",
    "import torch\n",
    "from pymatgen.core import Structure, Lattice\n",
    "import matgl\n",
    "warnings.simplefilter(\"ignore\")"
   ]
  },
  {
   "cell_type": "code",
   "execution_count": 2,
   "metadata": {},
   "outputs": [
    {
     "name": "stdout",
     "output_type": "stream",
     "text": [
      "0.7.1\n"
     ]
    }
   ],
   "source": [
    "print(matgl.__version__)"
   ]
  },
  {
   "cell_type": "code",
   "execution_count": 3,
   "metadata": {},
   "outputs": [
    {
     "name": "stdout",
     "output_type": "stream",
     "text": [
      "['M3GNet-MP-2018.6.1-Eform', 'M3GNet-MP-2021.2.8-PES', 'MEGNet-MP-2018.6.1-Eform', 'MEGNet-MP-2019.4.1-BandGap-mfi']\n"
     ]
    }
   ],
   "source": [
    "print(matgl.get_available_pretrained_models())"
   ]
  },
  {
   "cell_type": "code",
   "execution_count": 5,
   "metadata": {},
   "outputs": [],
   "source": [
    "struct = Structure.from_spacegroup(\"Pm-3m\", Lattice.cubic(4.1437), [\"Cs\", \"Cl\"], [[0, 0, 0], [0.5, 0.5, 0.5]])"
   ]
  },
  {
   "cell_type": "markdown",
   "metadata": {},
   "source": [
    "## calculate MP Band gap"
   ]
  },
  {
   "cell_type": "code",
   "execution_count": 6,
   "metadata": {},
   "outputs": [
    {
     "name": "stdout",
     "output_type": "stream",
     "text": [
      "The predicted PBE band gap for CsCl is 4.825 eV.\n",
      "The predicted GLLB-SC band gap for CsCl is 8.323 eV.\n",
      "The predicted HSE band gap for CsCl is 6.317 eV.\n",
      "The predicted SCAN band gap for CsCl is 5.965 eV.\n"
     ]
    }
   ],
   "source": [
    "#code adapted fom https://matgl.ai/tutorials%2FProperty%20Predictions%20using%20MEGNet%20or%20M3GNet%20Models.html\n",
    "model = matgl.load_model(\"MEGNet-MP-2019.4.1-BandGap-mfi\")\n",
    "\n",
    "# Define a list of methods to use\n",
    "methods = [\"PBE\", \"GLLB-SC\", \"HSE\", \"SCAN\"]\n",
    "# For multi-fidelity models, we need to define graph label (\"0\": PBE, \"1\": GLLB-SC, \"2\": HSE, \"3\": SCAN)\n",
    "\n",
    "for i, method in enumerate(methods):\n",
    "    graph_attrs = torch.tensor([i])\n",
    "    bandgap = model.predict_structure(structure=struct, state_feats=graph_attrs)\n",
    "    print(f\"The predicted {method} band gap for CsCl is {float(bandgap):.3f} eV.\")"
   ]
  }
 ],
 "metadata": {
  "kernelspec": {
   "display_name": ".venv",
   "language": "python",
   "name": "python3"
  },
  "language_info": {
   "codemirror_mode": {
    "name": "ipython",
    "version": 3
   },
   "file_extension": ".py",
   "mimetype": "text/x-python",
   "name": "python",
   "nbconvert_exporter": "python",
   "pygments_lexer": "ipython3",
   "version": "3.10.6"
  },
  "orig_nbformat": 4
 },
 "nbformat": 4,
 "nbformat_minor": 2
}
