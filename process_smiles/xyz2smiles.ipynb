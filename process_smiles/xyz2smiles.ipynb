{
 "cells": [
  {
   "cell_type": "markdown",
   "metadata": {},
   "source": [
    "Generate smiles list from a given xyz files\n",
    "---------------------------------------------------------------------\n",
    "A code inspired from the kaggle challenge solution (https://www.kaggle.com/code/roccomeli/easy-xyz-to-smiles-conversion/notebook by Rocco Meli) that can convert xyz to smiles in case you need such format in your calculations\n",
    "\n",
    "###Used dependicies:\n",
    "-------------------\n",
    "Here, I used openbabel tool (http://openbabel.org/wiki/Main_Page) which can be installed by \"conda install openbabel -c openbabel -y\" <br>\n",
    "I tried mybest to install it using pip but failed, maybe you should compile it locally or so <br>\n",
    "if openbabel installation is not easy to install in your environment, you can use docker\n",
    "<br>\n",
    "For successfully doing this notebook (and sometimes other for other libraries) I used docker to pull a conda image <br>\n",
    "\n",
    "* I pulled an x86 image to avoid any further workarounds for the moment (https://hub.docker.com/r/continuumio/miniconda3): \n",
    "docker pull continuumio/miniconda3 \n",
    "\n",
    "* run the docker image through: \n",
    "docker run --name cheminformatics -it -p 127.0.0.1:80:8080 -v ./cheminformatics_host_folder:/codes -w /codes continuumio/miniconda3:latest\n",
    "\n",
    "ofcourse, for this simple example: you don't need port forwarding or sharing the volume by -v flag which is not as fast as using docker volumes -vol but I just needed that to share some folder I have already plus I am not so familiar yet with docker volumes at the time of writing this! \n",
    "note: I just add port forwarding as I may need it for other tools that I may use using the same container\n",
    "\n",
    "<br>\n",
    "Please let me know if you have other implementations or tools!"
   ]
  },
  {
   "cell_type": "code",
   "execution_count": 1,
   "metadata": {},
   "outputs": [],
   "source": [
    "import os\n",
    "from openbabel import pybel"
   ]
  },
  {
   "cell_type": "code",
   "execution_count": 2,
   "metadata": {},
   "outputs": [],
   "source": [
    "\n",
    "def xyz_to_smiles(fname: str) -> str:\n",
    "    mol = next(pybel.readfile('xyz', fname))\n",
    "    smi = mol.write(format='smi')\n",
    "    smi = smi.split()[0].strip()\n",
    "    return smi"
   ]
  },
  {
   "cell_type": "code",
   "execution_count": 3,
   "metadata": {},
   "outputs": [],
   "source": [
    "#convert the cell above to a function\n",
    "def print_smiles_from_xyz(xyz_path: str) -> None:\n",
    "    \"\"\"\n",
    "    a fuction that takes the prelative ath of the xyz_structures folder and prints \n",
    "    the smiles of the structures in a new folder named \"smiles_structures\" in the same xyz folder\n",
    "    example:\n",
    "    >>> print_smiles_from_xyz('./xyz_structures')\n",
    "    \"\"\"\n",
    "    xyz_structures = [f for f in os.listdir(xyz_path) if f.endswith('.xyz')]\n",
    "    xyz_structures_path = [os.path.join(xyz_path, f) for f in xyz_structures]\n",
    "    smiles = []\n",
    "    for xyz_structure in xyz_structures_path:\n",
    "        smiles.append(xyz_to_smiles(xyz_structure))\n",
    "    if not os.path.exists(xyz_path+'smiles_structures'):\n",
    "        os.makedirs(xyz_path+'smiles_structures')\n",
    "    with open(xyz_path+'smiles_structures/structure_smiles.txt', 'w') as f:\n",
    "        for item in smiles:\n",
    "             f.write(xyz_structures[smiles.index(item)]+'\\t\\t\\t\\t\\t'+item+'\\n')"
   ]
  },
  {
   "cell_type": "code",
   "execution_count": 5,
   "metadata": {},
   "outputs": [],
   "source": [
    "#let's use the function\n",
    "xyz_path = './resultant_xyz_structures/'\n",
    "print_smiles_from_xyz(xyz_path)"
   ]
  },
  {
   "cell_type": "code",
   "execution_count": 6,
   "metadata": {},
   "outputs": [
    {
     "name": "stdout",
     "output_type": "stream",
     "text": [
      "C1CC[C@H]2CCCC[C@H]2C1\n"
     ]
    }
   ],
   "source": [
    "#test the openbabel library function\n",
    "xyz_file = './resultant_xyz_structures/Decalin.xyz'\n",
    "smile = xyz_to_smiles(xyz_file)\n",
    "print(smile)"
   ]
  }
 ],
 "metadata": {
  "kernelspec": {
   "display_name": "Python 3.10.2 64-bit ('3.10.2')",
   "language": "python",
   "name": "python3"
  },
  "language_info": {
   "codemirror_mode": {
    "name": "ipython",
    "version": 3
   },
   "file_extension": ".py",
   "mimetype": "text/x-python",
   "name": "python",
   "nbconvert_exporter": "python",
   "pygments_lexer": "ipython3",
   "version": "3.10.2"
  },
  "orig_nbformat": 4,
  "vscode": {
   "interpreter": {
    "hash": "27af1eeeb92b5991d3180e82c8d8b1547dacbfe5a769b447ec95fa790dfbbaa9"
   }
  }
 },
 "nbformat": 4,
 "nbformat_minor": 2
}
